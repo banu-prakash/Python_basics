{
 "cells": [
  {
   "cell_type": "markdown",
   "metadata": {},
   "source": [
    "# Python Basics"
   ]
  },
  {
   "cell_type": "markdown",
   "metadata": {},
   "source": [
    "## Problem statement 5: Secant"
   ]
  },
  {
   "cell_type": "code",
   "execution_count": 116,
   "metadata": {
    "collapsed": false
   },
   "outputs": [
    {
     "name": "stdout",
     "output_type": "stream",
     "text": [
      "Root of Function 1:  x^3 - 20  is  =  2.6315789473684212\n",
      "Root of Function 2:  cos(x) + 2sin(x) + x  is  =  0.1305111262600478\n"
     ]
    }
   ],
   "source": [
    "def f(x, func_required):\n",
    "\n",
    "    if(func_required == 1):\n",
    "        # Function f(x) = x^3 - 20 :  Roots will be calculated for this fucntion. \n",
    "        return (x**3 - 20)\n",
    "    else:\n",
    "        # Function f(x) = cos(x) + 2sin(x) + x^2 :  Roots will be calculated for this fucntion. \n",
    "        return (math.cos(x) + 2*math.sin(x) + x**2) \n",
    " \n",
    "\n",
    "def secant_method(fR, x0, x1, PE):\n",
    "\n",
    "        x2 = x0 - (f(x0,fR) * (x1 - x0))/(f(x1,fR) - f(x0,fR))\n",
    "        E = x2 - x1    \n",
    "        if(E < PE):\n",
    "            return x2\n",
    "        else:\n",
    "            x0 = x1\n",
    "            x1 = x2\n",
    "            secant_method(fR, x0, x1, PE)\n",
    "\n",
    "\n",
    "#Invoking Secant Method\n",
    "result_1 = secant_method(1, 2.0, 3.0, 0.001)\n",
    "result_2 = secant_method(2, 2, 3, 0.001)\n",
    "\n",
    "print(\"Root of Function 1:  x^3 - 20  is  = \", result_1)\n",
    "print(\"Root of Function 2:  cos(x) + 2sin(x) + x  is  = \", result_2)    "
   ]
  },
  {
   "cell_type": "markdown",
   "metadata": {},
   "source": [
    "## Problem statement 7: Spline_interpolation"
   ]
  },
  {
   "cell_type": "markdown",
   "metadata": {},
   "source": [
    "### Defining a function of spline interpolation with spline conditional euation\n",
    "##### returns the value of the data point passed along with it's previous and next data set"
   ]
  },
  {
   "cell_type": "code",
   "execution_count": 125,
   "metadata": {
    "collapsed": true
   },
   "outputs": [],
   "source": [
    "def spline_interpolation(data_point, data_point_low, data_point_high):\n",
    " \n",
    "    value_data_point = data_point_low[1] + ((data_point_high[1] - data_point_low[1])*(data_point - data_point_low[0]))/(data_point_high[0] - data_point_low[0])\n",
    "\n",
    "    return round(value_data_point,2)"
   ]
  },
  {
   "cell_type": "markdown",
   "metadata": {},
   "source": [
    "### Data set given\n",
    "\n",
    "    Time(s) Velocity(m/s)\n",
    "     0         0\n",
    "     10        227.5\n",
    "     15        362.8\n",
    "     20        517.35\n",
    "     22.5      602.97\n"
   ]
  },
  {
   "cell_type": "code",
   "execution_count": 127,
   "metadata": {
    "collapsed": true
   },
   "outputs": [],
   "source": [
    "#Getting the data into a list\n",
    "time_velocity_data = [[0,0], [10,227.04], [15,362.78], [20,517.35], [22.5,602.97]]\n",
    "#time_given = input(\"Enter the time at which you need velocity: \")\n",
    "#Required datapoint values\n",
    "time_req_dataPoint = [14, 19, 21]"
   ]
  },
  {
   "cell_type": "code",
   "execution_count": 128,
   "metadata": {
    "collapsed": false
   },
   "outputs": [
    {
     "name": "stdout",
     "output_type": "stream",
     "text": [
      "14 -- 335.63\n",
      "19 -- 486.44\n",
      "21 -- 551.6\n"
     ]
    }
   ],
   "source": [
    "#Getting the data location \n",
    "for data_point in time_req_dataPoint:\n",
    "    \n",
    "    for data in time_velocity_data:\n",
    "        \n",
    "        if(data_point > data[0]):\n",
    "            data_point_low = data\n",
    "        \n",
    "        elif(data_point < data[0]):\n",
    "            data_point_high = data\n",
    "            print( data_point,\"--\", spline_interpolation(data_point, data_point_low, data_point_high))\n",
    "            break\n",
    "           "
   ]
  },
  {
   "cell_type": "code",
   "execution_count": null,
   "metadata": {
    "collapsed": true
   },
   "outputs": [],
   "source": []
  }
 ],
 "metadata": {
  "kernelspec": {
   "display_name": "Python 3",
   "language": "python",
   "name": "python3"
  },
  "language_info": {
   "codemirror_mode": {
    "name": "ipython",
    "version": 3
   },
   "file_extension": ".py",
   "mimetype": "text/x-python",
   "name": "python",
   "nbconvert_exporter": "python",
   "pygments_lexer": "ipython3",
   "version": "3.5.2"
  }
 },
 "nbformat": 4,
 "nbformat_minor": 2
}
